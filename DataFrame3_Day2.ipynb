{
 "cells": [
  {
   "cell_type": "code",
   "execution_count": 1,
   "id": "e4296f5f",
   "metadata": {},
   "outputs": [
    {
     "name": "stdout",
     "output_type": "stream",
     "text": [
      "   Empno     Ename Qualification Subject\n",
      "0    101     Pawan            Cs      Cs\n",
      "1    102   Nithesh        Diplom    Mech\n",
      "2    103    Ronith   Engineering      Ce\n",
      "3    104  Swasthik           IAS      Ec\n",
      "4    105  preetham          Bcom      Am\n"
     ]
    }
   ],
   "source": [
    "import pandas as pd\n",
    "data={\n",
    "    'Empno':[101,102,103,104,105],\n",
    "    'Ename':['Pawan','Nithesh','Ronith','Swasthik','preetham'],\n",
    "    'Qualification':['Cs','Diplom','Engineering','IAS','Bcom'],\n",
    "    'Subject':['Cs','Mech','Ce','Ec','Am']\n",
    "}\n",
    "df=pd.DataFrame(data)\n",
    "print(df)"
   ]
  },
  {
   "cell_type": "code",
   "execution_count": null,
   "id": "3890f5ac",
   "metadata": {},
   "outputs": [],
   "source": []
  }
 ],
 "metadata": {
  "kernelspec": {
   "display_name": "Python 3 (ipykernel)",
   "language": "python",
   "name": "python3"
  },
  "language_info": {
   "codemirror_mode": {
    "name": "ipython",
    "version": 3
   },
   "file_extension": ".py",
   "mimetype": "text/x-python",
   "name": "python",
   "nbconvert_exporter": "python",
   "pygments_lexer": "ipython3",
   "version": "3.11.4"
  }
 },
 "nbformat": 4,
 "nbformat_minor": 5
}

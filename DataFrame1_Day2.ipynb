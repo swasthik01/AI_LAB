{
 "cells": [
  {
   "cell_type": "code",
   "execution_count": 3,
   "id": "1a409aa3",
   "metadata": {},
   "outputs": [],
   "source": [
    "import pandas as pd\n",
    "names=pd.Series(['Alice','Bob','Charlie','David','Eve'])\n",
    "ages=pd.Series([25,32,28,45,29])\n",
    "cities=pd.Series(['Newyork','San francisco','Los angeles','Chicago','Miami'])"
   ]
  },
  {
   "cell_type": "code",
   "execution_count": 4,
   "id": "b0f9a6b1",
   "metadata": {},
   "outputs": [
    {
     "name": "stdout",
     "output_type": "stream",
     "text": [
      "      Name  Age           City\n",
      "0    Alice   25        Newyork\n",
      "1      Bob   32  San francisco\n",
      "2  Charlie   28    Los angeles\n",
      "3    David   45        Chicago\n",
      "4      Eve   29          Miami\n"
     ]
    }
   ],
   "source": [
    "data={\n",
    "    'Name':names,\n",
    "    'Age':ages,\n",
    "    'City':cities\n",
    "}\n",
    "df=pd.DataFrame(data)\n",
    "print(df)"
   ]
  },
  {
   "cell_type": "code",
   "execution_count": null,
   "id": "7b14df95",
   "metadata": {},
   "outputs": [],
   "source": []
  }
 ],
 "metadata": {
  "kernelspec": {
   "display_name": "Python 3 (ipykernel)",
   "language": "python",
   "name": "python3"
  },
  "language_info": {
   "codemirror_mode": {
    "name": "ipython",
    "version": 3
   },
   "file_extension": ".py",
   "mimetype": "text/x-python",
   "name": "python",
   "nbconvert_exporter": "python",
   "pygments_lexer": "ipython3",
   "version": "3.11.4"
  }
 },
 "nbformat": 4,
 "nbformat_minor": 5
}

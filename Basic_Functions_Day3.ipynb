{
 "cells": [
  {
   "cell_type": "code",
   "execution_count": 3,
   "id": "0f2eda8d",
   "metadata": {},
   "outputs": [
    {
     "name": "stdout",
     "output_type": "stream",
     "text": [
      "['Bread', 'Milk', 'Eggs', 'Butter', 'Cocoa']\n",
      "[78, 47, 96, 55, 34]\n",
      "[1, 2, 3, 0, 'text', True, (3+2j)]\n"
     ]
    }
   ],
   "source": [
    "item_list=['Bread','Milk','Eggs','Butter','Cocoa']\n",
    "student_marks=[78,47,96,55,34]\n",
    "hetero_list=[1,2,3,0,'text',True,3+2j]\n",
    "print(item_list)\n",
    "print(student_marks)\n",
    "print(hetero_list)"
   ]
  },
  {
   "cell_type": "code",
   "execution_count": 11,
   "id": "3a2fda99",
   "metadata": {},
   "outputs": [
    {
     "name": "stdout",
     "output_type": "stream",
     "text": [
      "[83, 52, 101, 60, 39]\n"
     ]
    }
   ],
   "source": [
    "student_marks = [78,47,96,55,34]\n",
    "for i in range(len(student_marks)):\n",
    "    student_marks[i]+=5\n",
    "print(student_marks)"
   ]
  },
  {
   "cell_type": "code",
   "execution_count": 4,
   "id": "d228bb02",
   "metadata": {},
   "outputs": [
    {
     "name": "stdout",
     "output_type": "stream",
     "text": [
      "CPU times: total: 31.2 ms\n",
      "Wall time: 51.6 ms\n"
     ]
    }
   ],
   "source": [
    "%%time\n",
    "list1=list(range(1,1000000))\n",
    "list1=list(range(1,1000001))\n",
    "list=[]\n",
    "for i in range(len(list)):\n",
    "    list3.append(list1[i]+list2[i])\n"
   ]
  },
  {
   "cell_type": "code",
   "execution_count": 6,
   "id": "9519e700",
   "metadata": {},
   "outputs": [
    {
     "data": {
      "text/plain": [
       "array([78, 47, 96, 55, 34])"
      ]
     },
     "execution_count": 6,
     "metadata": {},
     "output_type": "execute_result"
    }
   ],
   "source": [
    "import numpy as np\n",
    "student_marks_arr = np.array([78,47,96,55,34])\n",
    "student_marks_arr"
   ]
  },
  {
   "cell_type": "code",
   "execution_count": 10,
   "id": "bcdf741a",
   "metadata": {},
   "outputs": [
    {
     "name": "stdout",
     "output_type": "stream",
     "text": [
      "[[18, 15, 18, 61, 17], [130, 165, 150, 150, 140], [307, 350, 318, 304, 3032]]\n"
     ]
    }
   ],
   "source": [
    "car_attributes = [[18,15,18,61,17],[130,165,150,150,140],[307,350,318,304,3032]]\n",
    "print(car_attributes)"
   ]
  },
  {
   "cell_type": "code",
   "execution_count": 13,
   "id": "f2063f87",
   "metadata": {},
   "outputs": [
    {
     "data": {
      "text/plain": [
       "array([[  18,   15,   18,   61,   17],\n",
       "       [ 130,  165,  150,  150,  140],\n",
       "       [ 307,  350,  318,  304, 3032]])"
      ]
     },
     "execution_count": 13,
     "metadata": {},
     "output_type": "execute_result"
    }
   ],
   "source": [
    "car_attributes_arr=np.array(car_attributes)\n",
    "car_attributes_arr"
   ]
  },
  {
   "cell_type": "code",
   "execution_count": 14,
   "id": "68043ad4",
   "metadata": {},
   "outputs": [
    {
     "data": {
      "text/plain": [
       "(3, 5)"
      ]
     },
     "execution_count": 14,
     "metadata": {},
     "output_type": "execute_result"
    }
   ],
   "source": [
    "car_attributes_arr.shape"
   ]
  },
  {
   "cell_type": "code",
   "execution_count": 15,
   "id": "cff137b4",
   "metadata": {},
   "outputs": [
    {
     "data": {
      "text/plain": [
       "dtype('int32')"
      ]
     },
     "execution_count": 15,
     "metadata": {},
     "output_type": "execute_result"
    }
   ],
   "source": [
    "car_attributes_arr.dtype"
   ]
  },
  {
   "cell_type": "code",
   "execution_count": 17,
   "id": "04cf4d1e",
   "metadata": {},
   "outputs": [
    {
     "name": "stdout",
     "output_type": "stream",
     "text": [
      "[[  18.   15.   18.   61.   17.]\n",
      " [ 130.  165.  150.  150.  140.]\n",
      " [ 307.  350.  318.  304. 3032.]]\n",
      "float64\n"
     ]
    }
   ],
   "source": [
    "car_attributes = [[18,15,18,61,17],[130,165,150,150,140],[307,350,318,304,3032]]\n",
    "car_attributes_arr=np.array(car_attributes,dtype='float')\n",
    "print(car_attributes_arr)\n",
    "print(car_attributes_arr.dtype)"
   ]
  },
  {
   "cell_type": "code",
   "execution_count": 18,
   "id": "c1d139a9",
   "metadata": {},
   "outputs": [
    {
     "data": {
      "text/plain": [
       "'buick skylark 320'"
      ]
     },
     "execution_count": 18,
     "metadata": {},
     "output_type": "execute_result"
    }
   ],
   "source": [
    "cars=np.array(['chevrolet chevelle malibu','buick skylark 320','playmouth satellite','amc rebel sst','ford torino'])\n",
    "cars[1]"
   ]
  },
  {
   "cell_type": "code",
   "execution_count": 19,
   "id": "e6ffebf4",
   "metadata": {},
   "outputs": [
    {
     "data": {
      "text/plain": [
       "array([['chevrolet chevelle malibu', 'buick skylark 320',\n",
       "        'playmouth satellite', 'amc rebel sst', 'ford torino'],\n",
       "       ['130', '165', '150', '150', '140']], dtype='<U25')"
      ]
     },
     "execution_count": 19,
     "metadata": {},
     "output_type": "execute_result"
    }
   ],
   "source": [
    "car_names=['chevrolet chevelle malibu','buick skylark 320','playmouth satellite','amc rebel sst','ford torino']\n",
    "horsepower=[130,165,150,150,140]\n",
    "car_hp_arr=np.array([car_names,horsepower])\n",
    "car_hp_arr"
   ]
  },
  {
   "cell_type": "code",
   "execution_count": 21,
   "id": "17fafbfd",
   "metadata": {},
   "outputs": [
    {
     "data": {
      "text/plain": [
       "array(['chevrolet chevelle malibu', 'buick skylark 320',\n",
       "       'playmouth satellite', 'amc rebel sst', 'ford torino'],\n",
       "      dtype='<U25')"
      ]
     },
     "execution_count": 21,
     "metadata": {},
     "output_type": "execute_result"
    }
   ],
   "source": [
    "car_hp_arr[0]"
   ]
  },
  {
   "cell_type": "code",
   "execution_count": 22,
   "id": "e4a2e958",
   "metadata": {},
   "outputs": [
    {
     "data": {
      "text/plain": [
       "array(['130', '165', '150', '150', '140'], dtype='<U25')"
      ]
     },
     "execution_count": 22,
     "metadata": {},
     "output_type": "execute_result"
    }
   ],
   "source": [
    "car_hp_arr[1]"
   ]
  },
  {
   "cell_type": "code",
   "execution_count": 23,
   "id": "daff25a8",
   "metadata": {},
   "outputs": [
    {
     "data": {
      "text/plain": [
       "'buick skylark 320'"
      ]
     },
     "execution_count": 23,
     "metadata": {},
     "output_type": "execute_result"
    }
   ],
   "source": [
    "car_hp_arr[0,1]"
   ]
  },
  {
   "cell_type": "code",
   "execution_count": 24,
   "id": "7b47e3b2",
   "metadata": {},
   "outputs": [
    {
     "data": {
      "text/plain": [
       "'amc rebel sst'"
      ]
     },
     "execution_count": 24,
     "metadata": {},
     "output_type": "execute_result"
    }
   ],
   "source": [
    "car_hp_arr[0,-2]"
   ]
  },
  {
   "cell_type": "code",
   "execution_count": 25,
   "id": "fbd52250",
   "metadata": {},
   "outputs": [
    {
     "data": {
      "text/plain": [
       "array(['buick skylark 320', 'playmouth satellite', 'amc rebel sst'],\n",
       "      dtype='<U25')"
      ]
     },
     "execution_count": 25,
     "metadata": {},
     "output_type": "execute_result"
    }
   ],
   "source": [
    "car=np.array(['chevrolet','buick','ply','amc','ford'])\n",
    "cars[1:4]"
   ]
  },
  {
   "cell_type": "code",
   "execution_count": 29,
   "id": "19361e13",
   "metadata": {},
   "outputs": [
    {
     "data": {
      "text/plain": [
       "array([['chevrolet', 'buick', 'ply', 'amc', 'ford'],\n",
       "       ['130', '165', '150', '150', '140'],\n",
       "       ['18', '15', '18', '16', '17']], dtype='<U11')"
      ]
     },
     "execution_count": 29,
     "metadata": {},
     "output_type": "execute_result"
    }
   ],
   "source": [
    "car_names=['chevrolet','buick','ply','amc','ford']\n",
    "horsepower=['130', '165', '150', '150', '140']\n",
    "acceleration=[18,15,18,16,17]\n",
    "car_hp_acc_arr=np.array([car_names,horsepower,acceleration])\n",
    "car_hp_acc_arr\n"
   ]
  },
  {
   "cell_type": "code",
   "execution_count": 30,
   "id": "8225d530",
   "metadata": {},
   "outputs": [
    {
     "data": {
      "text/plain": [
       "array([['chevrolet', 'buick', 'ply', 'amc', 'ford'],\n",
       "       ['130', '165', '150', '150', '140'],\n",
       "       ['18', '15', '18', '16', '17']], dtype='<U11')"
      ]
     },
     "execution_count": 30,
     "metadata": {},
     "output_type": "execute_result"
    }
   ],
   "source": [
    "car_hp_acc_arr[0:3]"
   ]
  },
  {
   "cell_type": "code",
   "execution_count": 31,
   "id": "2117ea9a",
   "metadata": {},
   "outputs": [
    {
     "data": {
      "text/plain": [
       "array([['amc', 'ford'],\n",
       "       ['150', '140']], dtype='<U11')"
      ]
     },
     "execution_count": 31,
     "metadata": {},
     "output_type": "execute_result"
    }
   ],
   "source": [
    "car_hp_acc_arr[0:2,3:5]"
   ]
  },
  {
   "cell_type": "code",
   "execution_count": 32,
   "id": "385dd311",
   "metadata": {},
   "outputs": [
    {
     "data": {
      "text/plain": [
       "array([['chevrolet', 'buick', 'ply'],\n",
       "       ['130', '165', '150'],\n",
       "       ['18', '15', '18']], dtype='<U11')"
      ]
     },
     "execution_count": 32,
     "metadata": {},
     "output_type": "execute_result"
    }
   ],
   "source": [
    "car_hp_acc_arr[0:3,0:3]"
   ]
  },
  {
   "cell_type": "code",
   "execution_count": 35,
   "id": "94e678ee",
   "metadata": {},
   "outputs": [
    {
     "name": "stdout",
     "output_type": "stream",
     "text": [
      "Mean horsepower= 147.0\n"
     ]
    }
   ],
   "source": [
    "horsepower=[130,165,150,150,140]\n",
    "horsepower_arr = np.array(horsepower)\n",
    "print(\"Mean horsepower=\",np.mean(horsepower_arr))"
   ]
  },
  {
   "cell_type": "code",
   "execution_count": 36,
   "id": "f20197bc",
   "metadata": {},
   "outputs": [
    {
     "name": "stdout",
     "output_type": "stream",
     "text": [
      "Minimum horsepower= 130\n",
      "Maximum horsepower= 165\n"
     ]
    }
   ],
   "source": [
    "print(\"Minimum horsepower=\",np.min(horsepower_arr))\n",
    "print(\"Maximum horsepower=\",np.max(horsepower_arr))"
   ]
  },
  {
   "cell_type": "code",
   "execution_count": 37,
   "id": "9663ace5",
   "metadata": {},
   "outputs": [
    {
     "name": "stdout",
     "output_type": "stream",
     "text": [
      "Index of Minimum horsepower= 0\n",
      "Index of Maximum horsepower= 1\n"
     ]
    }
   ],
   "source": [
    "horsepower=[130,165,150,150,140]\n",
    "horsepower_arr = np.array(horsepower)\n",
    "print(\"Index of Minimum horsepower=\",np.argmin(horsepower_arr))\n",
    "print(\"Index of Maximum horsepower=\",np.argmax(horsepower_arr))"
   ]
  },
  {
   "cell_type": "code",
   "execution_count": 40,
   "id": "3cc466ee",
   "metadata": {},
   "outputs": [
    {
     "name": "stdout",
     "output_type": "stream",
     "text": [
      "(array([1, 2, 3], dtype=int64),)\n"
     ]
    },
    {
     "data": {
      "text/plain": [
       "array([165, 150, 150])"
      ]
     },
     "execution_count": 40,
     "metadata": {},
     "output_type": "execute_result"
    }
   ],
   "source": [
    "horsepower=[130,165,150,150,140]\n",
    "horsepower_arr = np.array(horsepower)\n",
    "x = np.where(horsepower_arr >=150)\n",
    "print(x)\n",
    "horsepower_arr[x]"
   ]
  },
  {
   "cell_type": "code",
   "execution_count": 41,
   "id": "76065b4e",
   "metadata": {},
   "outputs": [
    {
     "data": {
      "text/plain": [
       "150"
      ]
     },
     "execution_count": 41,
     "metadata": {},
     "output_type": "execute_result"
    }
   ],
   "source": [
    "horsepower_arr[3]"
   ]
  },
  {
   "cell_type": "code",
   "execution_count": 45,
   "id": "34dbc472",
   "metadata": {},
   "outputs": [
    {
     "data": {
      "text/plain": [
       "array([165, 140])"
      ]
     },
     "execution_count": 45,
     "metadata": {},
     "output_type": "execute_result"
    }
   ],
   "source": [
    "horsepower_arr[[1,4]]"
   ]
  },
  {
   "cell_type": "code",
   "execution_count": 46,
   "id": "ce95f7ae",
   "metadata": {},
   "outputs": [
    {
     "name": "stdout",
     "output_type": "stream",
     "text": [
      "bool\n",
      "[False  True  True  True  True]\n",
      "[165 150 150 140]\n"
     ]
    }
   ],
   "source": [
    "horsepower=[130,165,150,150,140]\n",
    "horsepower_arr = np.array(horsepower)\n",
    "x = horsepower_arr > 135\n",
    "print(x.dtype)\n",
    "newarr = horsepower_arr[x]\n",
    "print(x)\n",
    "print(newarr)"
   ]
  },
  {
   "cell_type": "code",
   "execution_count": 47,
   "id": "545254b5",
   "metadata": {},
   "outputs": [
    {
     "name": "stdout",
     "output_type": "stream",
     "text": [
      "original array : [130 165 150 150 140]\n",
      "sorted array : [130 140 150 150 165]\n",
      "original array after sorting : [130 165 150 150 140]\n",
      "[130 140 150 150 165]\n"
     ]
    }
   ],
   "source": [
    "horsepower=[130,165,150,150,140]\n",
    "horsepower_arr = np.array(horsepower)\n",
    "print('original array :',horsepower_arr)\n",
    "print('sorted array :',np.sort(horsepower_arr))\n",
    "print('original array after sorting :',horsepower_arr)\n",
    "Sortedarray = np.sort(horsepower_arr)\n",
    "print(Sortedarray)"
   ]
  },
  {
   "cell_type": "code",
   "execution_count": 48,
   "id": "27ac4dce",
   "metadata": {},
   "outputs": [
    {
     "name": "stdout",
     "output_type": "stream",
     "text": [
      "[130 165 150 150 140]\n",
      "[130 140 150 150 165]\n"
     ]
    }
   ],
   "source": [
    "horsepower=[130,165,150,150,140]\n",
    "horsepower_arr = np.array(horsepower)\n",
    "np.sort(horsepower_arr)\n",
    "print(horsepower_arr)\n",
    "horsepower_arr.sort()\n",
    "print(horsepower_arr)"
   ]
  },
  {
   "cell_type": "code",
   "execution_count": 49,
   "id": "5495f84e",
   "metadata": {},
   "outputs": [
    {
     "name": "stdout",
     "output_type": "stream",
     "text": [
      "original array : [130 165 150 150 140]\n",
      "original array after sorting : [130 165 150 150 140]\n"
     ]
    }
   ],
   "source": [
    "horsepower=[130,165,150,150,140]\n",
    "horsepower_arr = np.array(horsepower)\n",
    "print('original array :',horsepower_arr)\n",
    "print('original array after sorting :',horsepower_arr)"
   ]
  },
  {
   "cell_type": "code",
   "execution_count": null,
   "id": "0b112902",
   "metadata": {},
   "outputs": [],
   "source": []
  }
 ],
 "metadata": {
  "kernelspec": {
   "display_name": "Python 3 (ipykernel)",
   "language": "python",
   "name": "python3"
  },
  "language_info": {
   "codemirror_mode": {
    "name": "ipython",
    "version": 3
   },
   "file_extension": ".py",
   "mimetype": "text/x-python",
   "name": "python",
   "nbconvert_exporter": "python",
   "pygments_lexer": "ipython3",
   "version": "3.11.3"
  }
 },
 "nbformat": 4,
 "nbformat_minor": 5
}

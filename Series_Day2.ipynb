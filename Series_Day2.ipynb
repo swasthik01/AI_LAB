{
 "cells": [
  {
   "cell_type": "code",
   "execution_count": 1,
   "id": "2c22af45",
   "metadata": {},
   "outputs": [],
   "source": [
    "import pandas as pd\n",
    "import numpy as np"
   ]
  },
  {
   "cell_type": "code",
   "execution_count": 2,
   "id": "329da15d",
   "metadata": {},
   "outputs": [],
   "source": [
    "Series_A=pd.Series([10,20,30,40,50])\n",
    "Series_B=pd.Series([40,50,60,70,80])"
   ]
  },
  {
   "cell_type": "code",
   "execution_count": 3,
   "id": "8d9fc0c1",
   "metadata": {},
   "outputs": [
    {
     "name": "stdout",
     "output_type": "stream",
     "text": [
      "0    10\n",
      "1    20\n",
      "2    30\n",
      "5    60\n",
      "6    70\n",
      "7    80\n",
      "dtype: int64\n"
     ]
    }
   ],
   "source": [
    "intersect=np.intersect1d(Series_A,Series_B)\n",
    "union=pd.Series(np.union1d(Series_A,Series_B))\n",
    "notcommonseries=union[~union.isin(intersect)]\n",
    "print(notcommonseries)"
   ]
  },
  {
   "cell_type": "code",
   "execution_count": 7,
   "id": "520fe94d",
   "metadata": {},
   "outputs": [
    {
     "name": "stdout",
     "output_type": "stream",
     "text": [
      "Minimum 10\n",
      "Maximum 50\n",
      "Total 300\n",
      "Average 30.0\n",
      "Median 60.0\n"
     ]
    }
   ],
   "source": [
    "print(\"Minimum\",min(Series_A))\n",
    "print(\"Maximum\",max(Series_A))\n",
    "print(\"Total\",sum(Series_B))\n",
    "print(\"Average\",np.mean(Series_A))\n",
    "print(\"Median\",np.median(Series_B))"
   ]
  },
  {
   "cell_type": "code",
   "execution_count": null,
   "id": "2b3a13fd",
   "metadata": {},
   "outputs": [],
   "source": []
  }
 ],
 "metadata": {
  "kernelspec": {
   "display_name": "Python 3 (ipykernel)",
   "language": "python",
   "name": "python3"
  },
  "language_info": {
   "codemirror_mode": {
    "name": "ipython",
    "version": 3
   },
   "file_extension": ".py",
   "mimetype": "text/x-python",
   "name": "python",
   "nbconvert_exporter": "python",
   "pygments_lexer": "ipython3",
   "version": "3.11.4"
  }
 },
 "nbformat": 4,
 "nbformat_minor": 5
}

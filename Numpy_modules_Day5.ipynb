{
 "cells": [
  {
   "cell_type": "code",
   "execution_count": 1,
   "id": "a633a16d",
   "metadata": {},
   "outputs": [],
   "source": [
    "import numpy as np"
   ]
  },
  {
   "cell_type": "code",
   "execution_count": 2,
   "id": "09c0723c",
   "metadata": {},
   "outputs": [
    {
     "name": "stdout",
     "output_type": "stream",
     "text": [
      "a: [1 2 3 4 5]\n"
     ]
    }
   ],
   "source": [
    "a = np.array([1,2,3,4,5])\n",
    "print(\"a:\",a)"
   ]
  },
  {
   "cell_type": "code",
   "execution_count": 3,
   "id": "a0fd527d",
   "metadata": {},
   "outputs": [
    {
     "name": "stdout",
     "output_type": "stream",
     "text": [
      "15\n",
      "Product: 120\n",
      "Mean: 3.0\n",
      "Standard_deviation: 1.4142135623730951\n",
      "Variance: 2.0\n",
      "Minimum: 1\n",
      "Maximum: 5\n",
      "Maximum_index: 4\n",
      "Minimum_index: 0\n",
      "Median: 3.0\n"
     ]
    }
   ],
   "source": [
    "sum = np.sum(a)\n",
    "print(sum)\n",
    "product = np.prod(a)\n",
    "print(\"Product:\",product)\n",
    "mean = np.mean(a)\n",
    "print('Mean:',mean)\n",
    "standard_deviation = np.std(a)\n",
    "print('Standard_deviation:',standard_deviation)\n",
    "variance = np.var(a)\n",
    "print(\"Variance:\",variance)\n",
    "minimum = np.min(a)\n",
    "print(\"Minimum:\",minimum)\n",
    "maximum = np.max(a)\n",
    "print(\"Maximum:\",maximum)\n",
    "maximum_index = np.argmax(a)\n",
    "print(\"Maximum_index:\",maximum_index)\n",
    "minimum_index = np.argmin(a)\n",
    "print(\"Minimum_index:\",minimum_index)\n",
    "median = np.median(a)\n",
    "print(\"Median:\",median)"
   ]
  },
  {
   "cell_type": "code",
   "execution_count": null,
   "id": "127f8456",
   "metadata": {},
   "outputs": [],
   "source": []
  }
 ],
 "metadata": {
  "kernelspec": {
   "display_name": "Python 3 (ipykernel)",
   "language": "python",
   "name": "python3"
  },
  "language_info": {
   "codemirror_mode": {
    "name": "ipython",
    "version": 3
   },
   "file_extension": ".py",
   "mimetype": "text/x-python",
   "name": "python",
   "nbconvert_exporter": "python",
   "pygments_lexer": "ipython3",
   "version": "3.11.3"
  }
 },
 "nbformat": 4,
 "nbformat_minor": 5
}

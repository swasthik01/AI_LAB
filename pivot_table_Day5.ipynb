{
 "cells": [
  {
   "cell_type": "code",
   "execution_count": 1,
   "id": "a5134f22",
   "metadata": {},
   "outputs": [],
   "source": [
    "import pandas as pd"
   ]
  },
  {
   "cell_type": "code",
   "execution_count": 12,
   "id": "73c17a3d",
   "metadata": {},
   "outputs": [
    {
     "name": "stdout",
     "output_type": "stream",
     "text": [
      "  FirstName LastName                Type     Department  YoE  Salary\n",
      "0     Aryan    Singh  Full-time Employee  Adminstration    2   20000\n",
      "1     Rohan  Agrawal              Intern      Technical    3    5000\n",
      "2      Riya     Shah  Full-time Employee  Adminstration    5   10000\n",
      "3      Yash   Bhatia  Part-time Employee      Technical    7   10000\n",
      "4  Siddhant   Khanna  Full-time Employee     Management    6   20000\n"
     ]
    }
   ],
   "source": [
    "Data = {\n",
    "    'FirstName' : ['Aryan','Rohan','Riya','Yash','Siddhant'],\n",
    "    'LastName' : ['Singh','Agrawal','Shah','Bhatia','Khanna'],\n",
    "    'Type' : ['Full-time Employee','Intern','Full-time Employee','Part-time Employee','Full-time Employee'],\n",
    "    'Department' : ['Adminstration','Technical','Adminstration','Technical','Management'],\n",
    "    'YoE' : [2,3,5,7,6],\n",
    "    'Salary' : [20000,5000,10000,10000,20000]\n",
    "    \n",
    "}\n",
    "employee_df = pd.DataFrame(Data)\n",
    "print(df)"
   ]
  },
  {
   "cell_type": "code",
   "execution_count": 13,
   "id": "a3b45682",
   "metadata": {},
   "outputs": [
    {
     "data": {
      "text/html": [
       "<div>\n",
       "<style scoped>\n",
       "    .dataframe tbody tr th:only-of-type {\n",
       "        vertical-align: middle;\n",
       "    }\n",
       "\n",
       "    .dataframe tbody tr th {\n",
       "        vertical-align: top;\n",
       "    }\n",
       "\n",
       "    .dataframe thead th {\n",
       "        text-align: right;\n",
       "    }\n",
       "</style>\n",
       "<table border=\"1\" class=\"dataframe\">\n",
       "  <thead>\n",
       "    <tr style=\"text-align: right;\">\n",
       "      <th></th>\n",
       "      <th></th>\n",
       "      <th>Salary</th>\n",
       "    </tr>\n",
       "    <tr>\n",
       "      <th>Type</th>\n",
       "      <th>Department</th>\n",
       "      <th></th>\n",
       "    </tr>\n",
       "  </thead>\n",
       "  <tbody>\n",
       "    <tr>\n",
       "      <th rowspan=\"2\" valign=\"top\">Full-time Employee</th>\n",
       "      <th>Adminstration</th>\n",
       "      <td>15000</td>\n",
       "    </tr>\n",
       "    <tr>\n",
       "      <th>Management</th>\n",
       "      <td>20000</td>\n",
       "    </tr>\n",
       "    <tr>\n",
       "      <th>Intern</th>\n",
       "      <th>Technical</th>\n",
       "      <td>5000</td>\n",
       "    </tr>\n",
       "    <tr>\n",
       "      <th>Part-time Employee</th>\n",
       "      <th>Technical</th>\n",
       "      <td>10000</td>\n",
       "    </tr>\n",
       "  </tbody>\n",
       "</table>\n",
       "</div>"
      ],
      "text/plain": [
       "                                  Salary\n",
       "Type               Department           \n",
       "Full-time Employee Adminstration   15000\n",
       "                   Management      20000\n",
       "Intern             Technical        5000\n",
       "Part-time Employee Technical       10000"
      ]
     },
     "execution_count": 13,
     "metadata": {},
     "output_type": "execute_result"
    }
   ],
   "source": [
    "table = pd.pivot_table(employee_df,index = ['Type','Department'],values = 'Salary',aggfunc = 'mean')\n",
    "table"
   ]
  },
  {
   "cell_type": "code",
   "execution_count": 15,
   "id": "25c64ebb",
   "metadata": {},
   "outputs": [
    {
     "name": "stdout",
     "output_type": "stream",
     "text": [
      "                            mean    sum\n",
      "                          Salary Salary\n",
      "Type                                   \n",
      "Full-time Employee  16666.666667  50000\n",
      "Intern               5000.000000   5000\n",
      "Part-time Employee  10000.000000  10000\n"
     ]
    }
   ],
   "source": [
    "pivot = pd.pivot_table(\n",
    "data = employee_df,\n",
    "index = 'Type',\n",
    "values = 'Salary',\n",
    "aggfunc = ['mean','sum']\n",
    ")\n",
    "print(pivot)"
   ]
  },
  {
   "cell_type": "code",
   "execution_count": 16,
   "id": "4f55b980",
   "metadata": {},
   "outputs": [
    {
     "data": {
      "text/html": [
       "<div>\n",
       "<style scoped>\n",
       "    .dataframe tbody tr th:only-of-type {\n",
       "        vertical-align: middle;\n",
       "    }\n",
       "\n",
       "    .dataframe tbody tr th {\n",
       "        vertical-align: top;\n",
       "    }\n",
       "\n",
       "    .dataframe thead th {\n",
       "        text-align: right;\n",
       "    }\n",
       "</style>\n",
       "<table border=\"1\" class=\"dataframe\">\n",
       "  <thead>\n",
       "    <tr style=\"text-align: right;\">\n",
       "      <th></th>\n",
       "      <th>Salary</th>\n",
       "    </tr>\n",
       "    <tr>\n",
       "      <th>Type</th>\n",
       "      <th></th>\n",
       "    </tr>\n",
       "  </thead>\n",
       "  <tbody>\n",
       "    <tr>\n",
       "      <th>Full-time Employee</th>\n",
       "      <td>3</td>\n",
       "    </tr>\n",
       "    <tr>\n",
       "      <th>Intern</th>\n",
       "      <td>1</td>\n",
       "    </tr>\n",
       "    <tr>\n",
       "      <th>Part-time Employee</th>\n",
       "      <td>1</td>\n",
       "    </tr>\n",
       "  </tbody>\n",
       "</table>\n",
       "</div>"
      ],
      "text/plain": [
       "                    Salary\n",
       "Type                      \n",
       "Full-time Employee       3\n",
       "Intern                   1\n",
       "Part-time Employee       1"
      ]
     },
     "execution_count": 16,
     "metadata": {},
     "output_type": "execute_result"
    }
   ],
   "source": [
    "employee_df.pivot_table(index = 'Type',values = 'Salary',aggfunc = 'count')"
   ]
  },
  {
   "cell_type": "code",
   "execution_count": null,
   "id": "679a1211",
   "metadata": {},
   "outputs": [],
   "source": []
  }
 ],
 "metadata": {
  "kernelspec": {
   "display_name": "Python 3 (ipykernel)",
   "language": "python",
   "name": "python3"
  },
  "language_info": {
   "codemirror_mode": {
    "name": "ipython",
    "version": 3
   },
   "file_extension": ".py",
   "mimetype": "text/x-python",
   "name": "python",
   "nbconvert_exporter": "python",
   "pygments_lexer": "ipython3",
   "version": "3.11.4"
  }
 },
 "nbformat": 4,
 "nbformat_minor": 5
}

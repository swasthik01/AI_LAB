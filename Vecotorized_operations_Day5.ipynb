{
 "cells": [
  {
   "cell_type": "code",
   "execution_count": 1,
   "id": "4ed63dd2",
   "metadata": {},
   "outputs": [],
   "source": [
    "import pandas as pd\n",
    "from operator import add\n",
    "from functools import reduce"
   ]
  },
  {
   "cell_type": "code",
   "execution_count": 4,
   "id": "82041e75",
   "metadata": {},
   "outputs": [
    {
     "name": "stdout",
     "output_type": "stream",
     "text": [
      "  Subject  Amount\n",
      "0  Python    1000\n",
      "1    Java    2000\n"
     ]
    }
   ],
   "source": [
    "Coding = {'Subject':['Python','Java'],'Amount':[1000,2000]}\n",
    "df=pd.DataFrame(Coding)\n",
    "print(df)"
   ]
  },
  {
   "cell_type": "code",
   "execution_count": 5,
   "id": "4e519451",
   "metadata": {},
   "outputs": [
    {
     "name": "stdout",
     "output_type": "stream",
     "text": [
      "\n",
      " Map operation to multiply amount by 2 \n",
      "\n",
      "  Subject  Amount\n",
      "0  Python    2000\n",
      "1    Java    4000\n",
      "\n",
      "\n"
     ]
    }
   ],
   "source": [
    "print(\"\\n Map operation to multiply amount by 2 \\n\")\n",
    "df['Amount'] = df['Amount'].map(lambda x:x*2)\n",
    "print(df)\n",
    "print(\"\\n\")"
   ]
  },
  {
   "cell_type": "code",
   "execution_count": 6,
   "id": "a7c9eeca",
   "metadata": {},
   "outputs": [
    {
     "name": "stdout",
     "output_type": "stream",
     "text": [
      "\n",
      " operation of filter to display only subject column \n",
      "\n",
      "  Subject\n",
      "0  Python\n",
      "1    Java\n"
     ]
    }
   ],
   "source": [
    "print(\"\\n operation of filter to display only subject column \\n\")\n",
    "df2 = df.filter(items = ['Subject'])\n",
    "print(df2)"
   ]
  },
  {
   "cell_type": "code",
   "execution_count": 7,
   "id": "1132e374",
   "metadata": {},
   "outputs": [
    {
     "name": "stdout",
     "output_type": "stream",
     "text": [
      "\n",
      " reduce operation to find total amount \n",
      "\n"
     ]
    }
   ],
   "source": [
    "print(\"\\n reduce operation to find total amount \\n\")"
   ]
  },
  {
   "cell_type": "code",
   "execution_count": 8,
   "id": "74fe8341",
   "metadata": {},
   "outputs": [
    {
     "data": {
      "text/plain": [
       "6000"
      ]
     },
     "execution_count": 8,
     "metadata": {},
     "output_type": "execute_result"
    }
   ],
   "source": [
    "reduce(add,df.Amount)"
   ]
  },
  {
   "cell_type": "code",
   "execution_count": null,
   "id": "714e4a0e",
   "metadata": {},
   "outputs": [],
   "source": []
  }
 ],
 "metadata": {
  "kernelspec": {
   "display_name": "Python 3 (ipykernel)",
   "language": "python",
   "name": "python3"
  },
  "language_info": {
   "codemirror_mode": {
    "name": "ipython",
    "version": 3
   },
   "file_extension": ".py",
   "mimetype": "text/x-python",
   "name": "python",
   "nbconvert_exporter": "python",
   "pygments_lexer": "ipython3",
   "version": "3.11.3"
  }
 },
 "nbformat": 4,
 "nbformat_minor": 5
}

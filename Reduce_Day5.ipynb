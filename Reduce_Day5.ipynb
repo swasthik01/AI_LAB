{
 "cells": [
  {
   "cell_type": "code",
   "execution_count": 2,
   "id": "3becabed",
   "metadata": {},
   "outputs": [
    {
     "name": "stdout",
     "output_type": "stream",
     "text": [
      "16\n"
     ]
    }
   ],
   "source": [
    "from functools import reduce\n",
    "def add(x,y):\n",
    "    return x+y\n",
    "list = [2,4,7,3]\n",
    "print(reduce(add,list))"
   ]
  },
  {
   "cell_type": "markdown",
   "id": "30a3c85b",
   "metadata": {},
   "source": [
    "### Using Lambda"
   ]
  },
  {
   "cell_type": "code",
   "execution_count": 3,
   "id": "7309432a",
   "metadata": {},
   "outputs": [
    {
     "name": "stdout",
     "output_type": "stream",
     "text": [
      "16\n",
      "With an initial value: 26\n"
     ]
    }
   ],
   "source": [
    "from functools import reduce\n",
    "list =[2,4,7,3]\n",
    "print(reduce(lambda x,y:x+y,list))\n",
    "print(\"With an initial value:\",str(reduce(lambda x,y:x+y,list,10)))"
   ]
  },
  {
   "cell_type": "code",
   "execution_count": null,
   "id": "5df4f97f",
   "metadata": {},
   "outputs": [],
   "source": []
  }
 ],
 "metadata": {
  "kernelspec": {
   "display_name": "Python 3 (ipykernel)",
   "language": "python",
   "name": "python3"
  },
  "language_info": {
   "codemirror_mode": {
    "name": "ipython",
    "version": 3
   },
   "file_extension": ".py",
   "mimetype": "text/x-python",
   "name": "python",
   "nbconvert_exporter": "python",
   "pygments_lexer": "ipython3",
   "version": "3.11.3"
  }
 },
 "nbformat": 4,
 "nbformat_minor": 5
}

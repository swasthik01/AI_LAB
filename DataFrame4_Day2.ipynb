{
 "cells": [
  {
   "cell_type": "code",
   "execution_count": 1,
   "id": "5de7a9ed",
   "metadata": {},
   "outputs": [
    {
     "name": "stdout",
     "output_type": "stream",
     "text": [
      "   Rollno      Name     Address  Marks\n",
      "0      56  Swasthik     Mundaje    100\n",
      "1      32   Nithesh  Kethigudde    100\n",
      "2      33     Pawan     Bantwal    100\n",
      "3      40  Preetham  Ballamanja     99\n",
      "4       1    Ronith   Ajjibettu    100\n"
     ]
    }
   ],
   "source": [
    "import pandas as pd\n",
    "data={\n",
    "    'Rollno':[56,32,33,40,1],\n",
    "    'Name':['Swasthik','Nithesh','Pawan','Preetham','Ronith'],\n",
    "    'Address':['Mundaje','Kethigudde','Bantwal','Ballamanja','Ajjibettu'],\n",
    "    'Marks':[100,100,100,99,100]\n",
    "}\n",
    "df = pd.DataFrame(data)\n",
    "print(df)"
   ]
  },
  {
   "cell_type": "code",
   "execution_count": null,
   "id": "98e3b859",
   "metadata": {},
   "outputs": [],
   "source": []
  }
 ],
 "metadata": {
  "kernelspec": {
   "display_name": "Python 3 (ipykernel)",
   "language": "python",
   "name": "python3"
  },
  "language_info": {
   "codemirror_mode": {
    "name": "ipython",
    "version": 3
   },
   "file_extension": ".py",
   "mimetype": "text/x-python",
   "name": "python",
   "nbconvert_exporter": "python",
   "pygments_lexer": "ipython3",
   "version": "3.11.4"
  }
 },
 "nbformat": 4,
 "nbformat_minor": 5
}
